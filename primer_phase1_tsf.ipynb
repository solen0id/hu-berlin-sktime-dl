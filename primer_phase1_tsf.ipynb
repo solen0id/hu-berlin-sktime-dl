{
 "cells": [
  {
   "cell_type": "markdown",
   "id": "9ef176be",
   "metadata": {},
   "source": [
    "# Train sktime-dl LSTM-FCN Model"
   ]
  },
  {
   "cell_type": "code",
   "execution_count": null,
   "id": "4365e471",
   "metadata": {},
   "outputs": [],
   "source": [
    "import os\n",
    "os.environ['TF_CPP_MIN_LOG_LEVEL'] = '2' # Only print warnings, ignore info and error \n",
    "os.environ['TF_FORCE_GPU_ALLOW_GROWTH'] = 'true' \n",
    "os.environ['CUDA_VISIBLE_DEVICES'] = '-1' # Disable GPU\n",
    "\n",
    "import time\n",
    "import numpy as np\n",
    "import pandas as pd\n",
    "\n",
    "from sktime_dl.classification import LSTMFCNClassifier\n",
    "\n",
    "from sklearn.model_selection import GridSearchCV\n",
    "from sklearn.metrics import classification_report, f1_score, make_scorer"
   ]
  },
  {
   "cell_type": "code",
   "execution_count": null,
   "id": "cf079b49",
   "metadata": {},
   "outputs": [],
   "source": [
    "DATA_TRAIN = \"./dataset/SITS-train-phase1-subset-1000.csv\"\n",
    "use_univariate = False # also used in prediction later on\n",
    "\n",
    "# Set univariate=True, if you use a classifier with multivariate capabilities\n",
    "def read_data_sktime(DATA, univariate=False):\n",
    "    data = pd.read_csv(DATA, delimiter=\",\" , na_values=['?'], dtype='float', index_col=\"id\")\n",
    "\n",
    "    # Extract Data and Labels\n",
    "    X = data.iloc[:,1:].values\n",
    "    y = data.iloc[:,0].astype(int)\n",
    "\n",
    "    if univariate:\n",
    "        X = X.reshape(X.shape[0], 1, X.shape[1])\n",
    "    else:\n",
    "        X = X.reshape(X.shape[0], 3, X.shape[1]//3)\n",
    "        \n",
    "        \n",
    "    print(X.shape)\n",
    "    print(y.shape)\n",
    "    return X, y\n",
    "\n",
    "\n",
    "X_train, y_train = read_data_sktime(DATA_TRAIN, univariate=use_univariate)"
   ]
  },
  {
   "cell_type": "code",
   "execution_count": null,
   "id": "66b30a9f",
   "metadata": {},
   "outputs": [],
   "source": [
    "class LSTMFCNClassifierCustom(LSTMFCNClassifier):\n",
    "    def __init__(\n",
    "        self,\n",
    "        nb_epochs=2000,\n",
    "        batch_size=128,\n",
    "        dropout=0.8,\n",
    "        kernel_sizes=[8, 5, 3],\n",
    "        filter_sizes=[128, 256, 128],\n",
    "        lstm_size=8,\n",
    "        use_att=False,\n",
    "        callbacks=None,\n",
    "        random_state=0,\n",
    "        verbose=False,\n",
    "        model_name=\"lstmfcn\",\n",
    "        model_save_directory=None,\n",
    "    ):\n",
    "\n",
    "        super(LSTMFCNClassifierCustom, self).__init__(\n",
    "            model_name=model_name, model_save_directory=model_save_directory\n",
    "        )\n",
    "\n",
    "        self.verbose = verbose\n",
    "        self._is_fitted = False\n",
    "\n",
    "        # calced in fit\n",
    "        self.classes_ = None\n",
    "        self.nb_classes = -1\n",
    "        self.input_shape = None\n",
    "        self.model = None\n",
    "        self.history = None\n",
    "\n",
    "        # predefined\n",
    "        self.nb_epochs = nb_epochs\n",
    "        self.batch_size = batch_size\n",
    "        self.kernel_sizes = kernel_sizes\n",
    "        self.filter_sizes = filter_sizes\n",
    "        self.lstm_size = lstm_size\n",
    "        self.dropout = dropout\n",
    "        self.attention = use_att\n",
    "\n",
    "        self.callbacks = callbacks\n",
    "        self.random_state = random_state\n",
    "        self.verbose = verbose\n",
    "\n",
    "        self._is_fitted = False\n",
    "\n",
    "    @property\n",
    "    def NUM_CELLS(self):\n",
    "        return self.lstm_size\n",
    "\n",
    "    @property\n",
    "    def use_att(self):\n",
    "        return self.attention\n"
   ]
  },
  {
   "cell_type": "code",
   "execution_count": null,
   "id": "6d52024c",
   "metadata": {},
   "outputs": [],
   "source": [
    "# param_grid = {\n",
    "#                 \"kernel_size\": [3,5,7,9,11],\n",
    "#                 \"n_conv_layers\": [2,3,5,7],\n",
    "#               }\n",
    "\n",
    "param_grid = {\n",
    "    \"nb_epochs\": [10, 20],\n",
    "    \"batch_size\": [128],\n",
    "}\n",
    "\n",
    "# choose a classifier\n",
    "clf = LSTMFCNClassifierCustom(nb_epochs=10)\n",
    "scorer = make_scorer(f1_score, average=\"weighted\")\n",
    "\n",
    "# perform a grid-search\n",
    "fit_time = time.perf_counter()\n",
    "grid = GridSearchCV(\n",
    "    clf, param_grid, cv=5, scoring=scorer, refit=True, n_jobs=-1, verbose=1\n",
    ")\n",
    "grid.fit(X_train, y_train)\n",
    "fit_time = np.round(time.perf_counter() - fit_time, 5)\n",
    "\n",
    "# get best model\n",
    "best_clf = grid.best_estimator_\n",
    "best_params = grid.best_params_\n",
    "best_score = grid.best_score_\n",
    "\n",
    "print(\"Best F1-Score:\", best_score)\n",
    "print(\"Time taken:\", fit_time)\n",
    "\n",
    "print(\"Detailed scores on train dataset:\")\n",
    "print()\n",
    "\n",
    "means = grid.cv_results_[\"mean_test_score\"]\n",
    "stds = grid.cv_results_[\"std_test_score\"]\n",
    "\n",
    "for mean, std, params in zip(means, stds, grid.cv_results_[\"params\"]):\n",
    "    print(\"%0.3f (+/-%0.03f) for \\n\\t %r\" % (mean, std * 2, params))\n",
    "    print()\n"
   ]
  },
  {
   "cell_type": "markdown",
   "id": "84e8d938",
   "metadata": {},
   "source": [
    "# Predict"
   ]
  },
  {
   "cell_type": "code",
   "execution_count": null,
   "id": "bf90d4a5",
   "metadata": {},
   "outputs": [],
   "source": [
    "# Read the data\n",
    "DATA_TEST = \"./dataset/SITS-test-data-phase1-nolabel.csv\"\n",
    "\n",
    "X_test, _ = read_data_sktime(DATA_TEST, univariate=use_univariate)"
   ]
  },
  {
   "cell_type": "code",
   "execution_count": null,
   "id": "696cf101",
   "metadata": {},
   "outputs": [],
   "source": [
    "# Make a prediction\n",
    "predictions = best_clf.predict(X_test)"
   ]
  },
  {
   "cell_type": "code",
   "execution_count": null,
   "id": "6f918ccc",
   "metadata": {},
   "outputs": [],
   "source": [
    "# Create a submission file for kaggle\n",
    "submission = pd.DataFrame({'PREDICTED': predictions})\n",
    "submission.index.name=\"ID\"\n",
    "\n",
    "filename = 'baseline_tsf_submission_phase1.csv'\n",
    "submission.to_csv(filename,index=True)\n",
    "print('Saved file: ' + filename)\n",
    "\n",
    "#Visualize the first 5 rows\n",
    "submission.head()"
   ]
  }
 ],
 "metadata": {
  "kernelspec": {
   "display_name": "Python 3.7.5 64-bit ('se-algo-timeseries')",
   "language": "python",
   "name": "python3"
  },
  "language_info": {
   "codemirror_mode": {
    "name": "ipython",
    "version": 3
   },
   "file_extension": ".py",
   "mimetype": "text/x-python",
   "name": "python",
   "nbconvert_exporter": "python",
   "pygments_lexer": "ipython3",
   "version": "3.7.5"
  },
  "vscode": {
   "interpreter": {
    "hash": "0c5b454c6344d901b60c31445b6f796b4db34a2188a0e869ba4b24428762ebb0"
   }
  }
 },
 "nbformat": 4,
 "nbformat_minor": 5
}
