{
 "cells": [
  {
   "cell_type": "markdown",
   "id": "9ef176be",
   "metadata": {},
   "source": [
    "# Train sktime-dl LSTM-FCN Model"
   ]
  },
  {
   "cell_type": "code",
   "execution_count": 1,
   "id": "4365e471",
   "metadata": {},
   "outputs": [
    {
     "name": "stderr",
     "output_type": "stream",
     "text": [
      "2022-11-18 12:20:50.525639: E tensorflow/stream_executor/cuda/cuda_blas.cc:2981] Unable to register cuBLAS factory: Attempting to register factory for plugin cuBLAS when one has already been registered\n"
     ]
    }
   ],
   "source": [
    "import os\n",
    "os.environ['TF_CPP_MIN_LOG_LEVEL'] = '2' # Only print warnings, ignore info and error \n",
    "os.environ['CUDA_VISIBLE_DEVICES'] = '-1' # Disable GPU\n",
    "\n",
    "# os.environ['TF_FORCE_GPU_ALLOW_GROWTH'] = 'true' \n",
    "# import tensorflow as tf\n",
    "# tf.config.experimental.set_memory_growth(tf.config.list_physical_devices('GPU')[0], True)\n",
    "\n",
    "import time\n",
    "import numpy as np\n",
    "import pandas as pd\n",
    "\n",
    "from tensorflow.keras import callbacks\n",
    "\n",
    "from sktime.classification.deep_learning import MLSTMFCNClassifier\n",
    "\n",
    "from sklearn.model_selection import StratifiedShuffleSplit\n",
    "from sklearn.model_selection import GridSearchCV\n",
    "from sklearn.metrics import f1_score, make_scorer"
   ]
  },
  {
   "cell_type": "code",
   "execution_count": 12,
   "id": "cf079b49",
   "metadata": {},
   "outputs": [
    {
     "name": "stdout",
     "output_type": "stream",
     "text": [
      "(100000, 3, 46)\n",
      "(100000,)\n",
      "\n",
      "(85000, 3, 46)\n",
      "(85000,)\n",
      "\n",
      "(15000, 3, 46)\n",
      "(15000,)\n",
      "\n"
     ]
    }
   ],
   "source": [
    "DATA_TRAIN = \"./dataset/SITS-train-phase1-subset-100000.csv\"\n",
    "use_univariate = False # also used in prediction later on\n",
    "\n",
    "# Set univariate=True, if you use a classifier with multivariate capabilities\n",
    "def read_data_sktime(DATA, univariate=False):\n",
    "    data = pd.read_csv(DATA, delimiter=\",\" , na_values=['?'], dtype='float', index_col=\"id\")\n",
    "\n",
    "    # Extract Data and Labels\n",
    "    X = data.iloc[:,1:].values\n",
    "    y = data.iloc[:,0].astype(int)\n",
    "\n",
    "    if univariate:\n",
    "        X = X.reshape(X.shape[0], 1, X.shape[1])\n",
    "    else:\n",
    "        X = X.reshape(X.shape[0], 3, X.shape[1]//3)\n",
    "        \n",
    "\n",
    "    return X, y\n",
    "\n",
    "\n",
    "X, y = read_data_sktime(DATA_TRAIN, univariate=use_univariate)\n",
    "\n",
    "for (train_ix, test_ix)  in StratifiedShuffleSplit(n_splits=1, test_size=0.15, random_state=42).split(X, y):\n",
    "    X_train, y_train = X[train_ix], y[train_ix]\n",
    "    X_val, y_val = X[test_ix], y[test_ix]\n",
    "\n",
    "print(X.shape)\n",
    "print(y.shape)\n",
    "print()\n",
    "\n",
    "print(X_train.shape)\n",
    "print(y_train.shape)\n",
    "print()\n",
    "\n",
    "print(X_val.shape)\n",
    "print(y_val.shape)\n",
    "print()\n"
   ]
  },
  {
   "cell_type": "code",
   "execution_count": 3,
   "id": "ebf156fd",
   "metadata": {},
   "outputs": [],
   "source": [
    "class MLSTMFCNWithValidation(MLSTMFCNClassifier):\n",
    "\n",
    "    def fit(self, X, y, X_val=None, y_val=None, **kwargs):\n",
    "        self.reset()\n",
    "\n",
    "        start = int(round(time.time() * 1000))\n",
    "        # convenience conversions to allow user flexibility:\n",
    "        # if X is 2D array, convert to 3D, if y is Series, convert to numpy\n",
    "        X, y = self._internal_convert(X, y)\n",
    "        X_metadata = self._check_classifier_input(X, y)\n",
    "        missing = X_metadata[\"has_nans\"]\n",
    "        multivariate = not X_metadata[\"is_univariate\"]\n",
    "        unequal = not X_metadata[\"is_equal_length\"]\n",
    "        self._X_metadata = X_metadata\n",
    "\n",
    "        # Check this classifier can handle characteristics\n",
    "        self._check_capabilities(missing, multivariate, unequal)\n",
    "\n",
    "        # remember class labels\n",
    "        self.classes_ = np.unique(y)\n",
    "        self.n_classes_ = self.classes_.shape[0]\n",
    "        self._class_dictionary = {}\n",
    "        for index, class_val in enumerate(self.classes_):\n",
    "            self._class_dictionary[class_val] = index\n",
    "\n",
    "        # escape early and do not fit if only one class label has been seen\n",
    "        #   in this case, we later predict the single class label seen\n",
    "        if len(self.classes_) == 1:\n",
    "            self.fit_time_ = int(round(time.time() * 1000)) - start\n",
    "            self._is_fitted = True\n",
    "            return self\n",
    "\n",
    "        # Convert data as dictated by the classifier tags\n",
    "        X = self._convert_X(X)\n",
    "        multithread = self.get_tag(\"capability:multithreading\")\n",
    "        if multithread:\n",
    "            try:\n",
    "                self._threads_to_use = check_n_jobs(self.n_jobs)\n",
    "            except NameError:\n",
    "                raise AttributeError(\n",
    "                    \"self.n_jobs must be set if capability:multithreading is True\"\n",
    "                )\n",
    "\n",
    "        # pass coerced and checked data to inner _fit\n",
    "        self._fit(X, y, X_val, y_val, **kwargs)\n",
    "        self.fit_time_ = int(round(time.time() * 1000)) - start\n",
    "\n",
    "        # this should happen last\n",
    "        self._is_fitted = True\n",
    "        return self\n",
    "\n",
    "    def _fit(self, X, y, X_val=None, y_val=None, **kwargs):\n",
    "        from sklearn.utils.validation import check_random_state\n",
    "        \n",
    "        self.random_state = check_random_state(self.random_state)\n",
    "        y_onehot = self.convert_y_to_keras(y)\n",
    "        \n",
    "        if y_val is not None:\n",
    "            y_val = self.label_encoder.transform(y_val)\n",
    "            y_val = y_val.reshape(-1, 1)\n",
    "            y_val = self.onehot_encoder.transform(y_val)\n",
    "\n",
    "        # Transpose to conform to Keras input style.\n",
    "        X = X.transpose(0, 2, 1)\n",
    "        \n",
    "        if X_val is not None:\n",
    "             X_val = X_val.transpose(0, 2, 1)\n",
    "             \n",
    "        validation_data = (X_val, y_val) if X_val is not None and y_val is not None else None\n",
    "\n",
    "        # ignore the number of instances, X.shape[0],\n",
    "        # just want the shape of each instance\n",
    "        self.input_shape = X.shape[1:]\n",
    "\n",
    "        self.model_ = self.build_model(self.input_shape, self.n_classes_)\n",
    "\n",
    "        if self.verbose:\n",
    "            self.model_.summary()\n",
    "\n",
    "        self.history = self.model_.fit(\n",
    "            X,\n",
    "            y_onehot,\n",
    "            batch_size=self.batch_size,\n",
    "            epochs=self.n_epochs,\n",
    "            verbose=self.verbose,\n",
    "            callbacks=self.callbacks,\n",
    "            validation_data=validation_data,\n",
    "            **kwargs\n",
    "        )\n",
    "\n",
    "        self._is_fitted = True\n",
    "\n",
    "        return self"
   ]
  },
  {
   "cell_type": "code",
   "execution_count": 13,
   "id": "050310e3",
   "metadata": {},
   "outputs": [],
   "source": [
    "params = {\"n_epochs\": 100, \"batch_size\": 128, \"attention\": True}\n",
    "\n",
    "def stringify_params(params):\n",
    "    out = f\"X__{len(X_train)}__\"\n",
    "    for key, value in params.items():\n",
    "        out = f\"{out}{key}_{value}__\"\n",
    "    return out"
   ]
  },
  {
   "cell_type": "code",
   "execution_count": 14,
   "id": "b861481f",
   "metadata": {},
   "outputs": [],
   "source": [
    "# Define callbacks\n",
    "reduce_lr = callbacks.ReduceLROnPlateau(monitor=\"loss\", factor=0.7, patience=10, min_lr=0.0001)\n",
    "early_stopping = callbacks.EarlyStopping(monitor='val_loss', patience=50, restore_best_weights=True)\n",
    "tensorboard = callbacks.TensorBoard(log_dir=f\"./tensorboard/{stringify_params(params)}\", histogram_freq=1)\n",
    "# model_save = callbacks.ModelCheckpoint('best_model_exploring.h5', monitor='val_loss', mode='min', save_best_only=True)\n",
    "\n",
    "callbacks_ = [early_stopping, reduce_lr, tensorboard]"
   ]
  },
  {
   "cell_type": "code",
   "execution_count": 15,
   "id": "c96bbf05",
   "metadata": {},
   "outputs": [
    {
     "data": {
      "text/plain": [
       "MLSTMFCNWithValidation(callbacks=[<keras.callbacks.EarlyStopping object at 0x7fb69e794e90>,\n",
       "                                  <keras.callbacks.ReduceLROnPlateau object at 0x7fb69e794e50>,\n",
       "                                  <keras.callbacks.TensorBoard object at 0x7fb69e794c90>],\n",
       "                       random_state=RandomState(MT19937) at 0x7FB73A75A380)"
      ]
     },
     "execution_count": 15,
     "metadata": {},
     "output_type": "execute_result"
    }
   ],
   "source": [
    "clf = MLSTMFCNWithValidation(\n",
    "   \n",
    "    callbacks=callbacks_,\n",
    ")\n",
    "\n",
    "clf.fit(X_train, y_train, X_val, y_val)\n",
    "# clf.save('test.mdl')"
   ]
  },
  {
   "cell_type": "markdown",
   "id": "84e8d938",
   "metadata": {},
   "source": [
    "# Predict"
   ]
  },
  {
   "cell_type": "code",
   "execution_count": 16,
   "id": "bf90d4a5",
   "metadata": {},
   "outputs": [],
   "source": [
    "# Read the data\n",
    "DATA_TEST = \"./dataset/SITS-test-data-phase1-nolabel.csv\"\n",
    "\n",
    "X_test, _ = read_data_sktime(DATA_TEST, univariate=use_univariate)"
   ]
  },
  {
   "cell_type": "code",
   "execution_count": 17,
   "id": "696cf101",
   "metadata": {},
   "outputs": [
    {
     "name": "stdout",
     "output_type": "stream",
     "text": [
      "157/157 [==============================] - 2s 11ms/step\n"
     ]
    }
   ],
   "source": [
    "# Make a prediction\n",
    "# predictions = best_clf.predict(X_test)\n",
    "predictions = clf.predict(X_test)"
   ]
  },
  {
   "cell_type": "code",
   "execution_count": 18,
   "id": "6f918ccc",
   "metadata": {},
   "outputs": [
    {
     "name": "stdout",
     "output_type": "stream",
     "text": [
      "Saved file: mlstm_fcn_tsf_submission_phase1.csv\n"
     ]
    },
    {
     "data": {
      "text/html": [
       "<div>\n",
       "<style scoped>\n",
       "    .dataframe tbody tr th:only-of-type {\n",
       "        vertical-align: middle;\n",
       "    }\n",
       "\n",
       "    .dataframe tbody tr th {\n",
       "        vertical-align: top;\n",
       "    }\n",
       "\n",
       "    .dataframe thead th {\n",
       "        text-align: right;\n",
       "    }\n",
       "</style>\n",
       "<table border=\"1\" class=\"dataframe\">\n",
       "  <thead>\n",
       "    <tr style=\"text-align: right;\">\n",
       "      <th></th>\n",
       "      <th>PREDICTED</th>\n",
       "    </tr>\n",
       "    <tr>\n",
       "      <th>ID</th>\n",
       "      <th></th>\n",
       "    </tr>\n",
       "  </thead>\n",
       "  <tbody>\n",
       "    <tr>\n",
       "      <th>0</th>\n",
       "      <td>1</td>\n",
       "    </tr>\n",
       "    <tr>\n",
       "      <th>1</th>\n",
       "      <td>9</td>\n",
       "    </tr>\n",
       "    <tr>\n",
       "      <th>2</th>\n",
       "      <td>9</td>\n",
       "    </tr>\n",
       "    <tr>\n",
       "      <th>3</th>\n",
       "      <td>18</td>\n",
       "    </tr>\n",
       "    <tr>\n",
       "      <th>4</th>\n",
       "      <td>3</td>\n",
       "    </tr>\n",
       "  </tbody>\n",
       "</table>\n",
       "</div>"
      ],
      "text/plain": [
       "    PREDICTED\n",
       "ID           \n",
       "0           1\n",
       "1           9\n",
       "2           9\n",
       "3          18\n",
       "4           3"
      ]
     },
     "execution_count": 18,
     "metadata": {},
     "output_type": "execute_result"
    }
   ],
   "source": [
    "# Create a submission file for kaggle\n",
    "submission = pd.DataFrame({'PREDICTED': predictions})\n",
    "submission.index.name=\"ID\"\n",
    "\n",
    "filename = '/predictions/mlstm_fcn_tsf_submission_phase1.csv'\n",
    "submission.to_csv(filename,index=True)\n",
    "print('Saved file: ' + filename)\n",
    "\n",
    "#Visualize the first 5 rows\n",
    "submission.head()"
   ]
  },
  {
   "cell_type": "code",
   "execution_count": null,
   "id": "6d52024c",
   "metadata": {},
   "outputs": [],
   "source": [
    "param_grid = {\n",
    "    \"kernel_sizes\":[(8, 5, 3),(11, 8, 5)],\n",
    "    \"filter_sizes\":[(128, 256, 128),(128, 128, 128),(64, 128, 64),(32, 64, 32)],\n",
    "}\n",
    "\n",
    "# choose a classifier\n",
    "clf_grid = MLSTMFCNClassifier(\n",
    "    # n_epochs=1,\n",
    "    n_epochs=1000,\n",
    "    batch_size=128,\n",
    "    lstm_size=5,\n",
    "    attention=False,\n",
    "    callbacks=callbacks_\n",
    ")\n",
    "\n",
    "scorer = make_scorer(f1_score, average=\"macro\")\n",
    "\n",
    "# perform a grid-search\n",
    "fit_time = time.perf_counter()\n",
    "grid = GridSearchCV(\n",
    "    clf_grid, \n",
    "    param_grid, \n",
    "    cv=3, \n",
    "    scoring=scorer, \n",
    "    refit=True, \n",
    "    n_jobs=1, \n",
    "    verbose=1\n",
    ")\n",
    "grid.fit(X_train, y_train)\n",
    "# grid.fit(X_train, y_train)\n",
    "fit_time = np.round(time.perf_counter() - fit_time, 5)\n",
    "\n",
    "# get best model\n",
    "best_clf = grid.best_estimator_\n",
    "best_params = grid.best_params_\n",
    "best_score = grid.best_score_\n",
    "\n",
    "print(\"Best F1-Score:\", best_score)\n",
    "print(\"Time taken:\", fit_time)\n",
    "print(\"Best Params:\", best_params)\n",
    "\n",
    "del best_clf.__dict__['callbacks']\n",
    "best_clf.save(f\"best_model_grid_search_f1-{best_score:.4f}\".replace('.', 'p'))\n",
    "\n",
    "import json \n",
    "with open(f\"best_params_f1-{best_score:.4f}.txt\", 'w') as f:\n",
    "    f.write(json.dumps(best_params))\n"
   ]
  }
 ],
 "metadata": {
  "kernelspec": {
   "display_name": "Python 3.7.5 64-bit ('se-algo-timeseries')",
   "language": "python",
   "name": "python3"
  },
  "language_info": {
   "codemirror_mode": {
    "name": "ipython",
    "version": 3
   },
   "file_extension": ".py",
   "mimetype": "text/x-python",
   "name": "python",
   "nbconvert_exporter": "python",
   "pygments_lexer": "ipython3",
   "version": "3.7.5"
  },
  "vscode": {
   "interpreter": {
    "hash": "0c5b454c6344d901b60c31445b6f796b4db34a2188a0e869ba4b24428762ebb0"
   }
  }
 },
 "nbformat": 4,
 "nbformat_minor": 5
}
